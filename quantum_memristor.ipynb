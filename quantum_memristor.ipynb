{
 "cells": [
  {
   "attachments": {},
   "cell_type": "markdown",
   "metadata": {},
   "source": [
    "# Machine Learning Pipeline"
   ]
  },
  {
   "cell_type": "code",
   "execution_count": null,
   "metadata": {},
   "outputs": [],
   "source": [
    "!python --version"
   ]
  },
  {
   "cell_type": "code",
   "execution_count": null,
   "metadata": {},
   "outputs": [],
   "source": [
    "# Libraries\n",
    "\n",
    "from pickle import load\n",
    "\n",
    "# Loading the data\n",
    "\n",
    "with open('path_single_memristor', 'rb') as file:\n",
    "    data_single, v_single, iqp_single, time_single, parameters_single, info_single = load(file)\n",
    "\n",
    "with open('path_coupled_memristor', 'rb') as file:\n",
    "    data_coupled, v_coupled, iqp_coupled, time_coupled, parameters_coupled, info_coupled = load(file)\n",
    "\n",
    "\n",
    "\n"
   ]
  }
 ],
 "metadata": {
  "language_info": {
   "name": "python"
  },
  "orig_nbformat": 4
 },
 "nbformat": 4,
 "nbformat_minor": 2
}
